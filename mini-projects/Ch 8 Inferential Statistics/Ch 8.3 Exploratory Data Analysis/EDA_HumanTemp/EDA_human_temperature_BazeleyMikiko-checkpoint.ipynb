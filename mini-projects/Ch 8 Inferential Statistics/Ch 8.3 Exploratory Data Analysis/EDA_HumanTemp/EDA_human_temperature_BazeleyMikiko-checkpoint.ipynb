{
 "cells": [
  {
   "cell_type": "markdown",
   "metadata": {},
   "source": [
    "# What is the True Normal Human Body Temperature? \n",
    "\n",
    "#### Background\n",
    "\n",
    "The mean normal body temperature was held to be 37$^{\\circ}$C or 98.6$^{\\circ}$F for more than 120 years since it was first conceptualized and reported by Carl Wunderlich in a famous 1868 book. But, is this value statistically correct?"
   ]
  },
  {
   "cell_type": "markdown",
   "metadata": {},
   "source": [
    "<h3>Exercises</h3>\n",
    "\n",
    "<p>In this exercise, you will analyze a dataset of human body temperatures and employ the concepts of hypothesis testing, confidence intervals, and statistical significance.</p>\n",
    "\n",
    "<p>Answer the following questions <b>in this notebook below and submit to your Github account</b>.</p> \n",
    "\n",
    "<ol>\n",
    "<li>  Is the distribution of body temperatures normal? \n",
    "    <ul>\n",
    "    <li> Although this is not a requirement for the Central Limit Theorem to hold (read the introduction on Wikipedia's page about the CLT carefully: https://en.wikipedia.org/wiki/Central_limit_theorem), it gives us some peace of mind that the population may also be normally distributed if we assume that this sample is representative of the population.\n",
    "    <li> Think about the way you're going to check for the normality of the distribution. Graphical methods are usually used first, but there are also other ways: https://en.wikipedia.org/wiki/Normality_test\n",
    "    </ul>\n",
    "<li>  Is the sample size large? Are the observations independent?\n",
    "    <ul>\n",
    "    <li> Remember that this is a condition for the Central Limit Theorem, and hence the statistical tests we are using, to apply.\n",
    "    </ul>\n",
    "<li>  Is the true population mean really 98.6 degrees F?\n",
    "    <ul>\n",
    "    <li> First, try a bootstrap hypothesis test.\n",
    "    <li> Now, let's try frequentist statistical testing. Would you use a one-sample or two-sample test? Why?\n",
    "    <li> In this situation, is it appropriate to use the $t$ or $z$ statistic? \n",
    "    <li> Now try using the other test. How is the result be different? Why?\n",
    "    </ul>\n",
    "<li>  Draw a small sample of size 10 from the data and repeat both frequentist tests. \n",
    "    <ul>\n",
    "    <li> Which one is the correct one to use? \n",
    "    <li> What do you notice? What does this tell you about the difference in application of the $t$ and $z$ statistic?\n",
    "    </ul>\n",
    "<li>  At what temperature should we consider someone's temperature to be \"abnormal\"?\n",
    "    <ul>\n",
    "    <li> As in the previous example, try calculating everything using the boostrap approach, as well as the frequentist approach.\n",
    "    <li> Start by computing the margin of error and confidence interval. When calculating the confidence interval, keep in mind that you should use the appropriate formula for one draw, and not N draws.\n",
    "    </ul>\n",
    "<li>  Is there a significant difference between males and females in normal temperature?\n",
    "    <ul>\n",
    "    <li> What testing approach did you use and why?\n",
    "    <li> Write a story with your conclusion in the context of the original problem.\n",
    "    </ul>\n",
    "</ol>\n",
    "\n",
    "You can include written notes in notebook cells using Markdown: \n",
    "   - In the control panel at the top, choose Cell > Cell Type > Markdown\n",
    "   - Markdown syntax: http://nestacms.com/docs/creating-content/markdown-cheat-sheet\n",
    "\n",
    "#### Resources\n",
    "\n",
    "+ Information and data sources: http://www.amstat.org/publications/jse/datasets/normtemp.txt, http://www.amstat.org/publications/jse/jse_data_archive.htm\n",
    "+ Markdown syntax: http://nestacms.com/docs/creating-content/markdown-cheat-sheet\n",
    "\n",
    "****"
   ]
  },
  {
   "cell_type": "code",
   "execution_count": 43,
   "metadata": {},
   "outputs": [],
   "source": [
    "import pandas as pd\n",
    "import matplotlib.pyplot as plt\n",
    "import seaborn as sns\n",
    "\n",
    "from statsmodels.graphics.gofplots import qqplot\n",
    "from statsmodels.stats.power import TTestIndPower\n",
    "\n",
    "from scipy.stats import shapiro\n",
    "import scipy.stats as stats\n",
    "from scipy.stats import norm\n",
    "\n",
    "import numpy as np\n",
    "\n",
    "df = pd.read_csv('data/human_body_temperature.csv')"
   ]
  },
  {
   "cell_type": "code",
   "execution_count": 7,
   "metadata": {},
   "outputs": [
    {
     "name": "stdout",
     "output_type": "stream",
     "text": [
      "Index(['temperature', 'gender', 'heart_rate'], dtype='object')\n",
      "<class 'pandas.core.frame.DataFrame'>\n",
      "RangeIndex: 130 entries, 0 to 129\n",
      "Data columns (total 3 columns):\n",
      "temperature    130 non-null float64\n",
      "gender         130 non-null object\n",
      "heart_rate     130 non-null float64\n",
      "dtypes: float64(2), object(1)\n",
      "memory usage: 3.1+ KB\n",
      "None\n",
      "   temperature gender  heart_rate\n",
      "0         99.3      F        68.0\n",
      "1         98.4      F        81.0\n",
      "2         97.8      M        73.0\n",
      "3         99.2      F        66.0\n",
      "4         98.0      F        73.0\n"
     ]
    }
   ],
   "source": [
    "# Inspecting the structure of the data set\n",
    "\n",
    "print(df.columns)\n",
    "print(df.info())\n",
    "print(df.head(5))"
   ]
  },
  {
   "cell_type": "markdown",
   "metadata": {},
   "source": [
    "### 1) Is the distribution of body temperatures normal? "
   ]
  },
  {
   "cell_type": "code",
   "execution_count": 8,
   "metadata": {},
   "outputs": [
    {
     "data": {
      "image/png": "[encoded data removed]",
      "text/plain": [
       "<Figure size 432x288 with 1 Axes>"
      ]
     },
     "metadata": {
      "needs_background": "light"
     },
     "output_type": "display_data"
    }
   ],
   "source": [
    "plt.hist(df.temperature, density=True)\n",
    "normfit=stats.norm.pdf(df.temperature, np.mean(df.temperature), np.std(df.temperature))\n",
    "plt.plot(df.temperature, normfit, '*')\n",
    "plt.xlabel('temperature (F)') \n",
    "plt.title('Frequency distrb. of Temperature (F) ') \n",
    "plt.show()"
   ]
  },
  {
   "cell_type": "markdown",
   "metadata": {},
   "source": [
    "Visually inspecting the histogram, the data looks normal-ish but is skewed to the right. \n",
    "\n",
    "We would need a more robust method for checking the normality of the distribution.\n",
    "\n",
    "Next we'll create a QQPlot. A Quantile-Quantile plot generates sample of Gaussian distribution, with idealized samples divided into quantiles. Idealized samples are paired with samples from data being tested, with resulting points being plotted \n",
    "\n",
    "For the QQ Plot, the body temp is on the y-xis and the theoretical Gaussian is on the x-axis. "
   ]
  },
  {
   "cell_type": "code",
   "execution_count": 9,
   "metadata": {},
   "outputs": [
    {
     "data": {
      "image/png": "[encoded data removed]",
      "text/plain": [
       "<Figure size 432x288 with 1 Axes>"
      ]
     },
     "metadata": {
      "needs_background": "light"
     },
     "output_type": "display_data"
    }
   ],
   "source": [
    "qqplot(df.temperature, line='s')\n",
    "plt.title('QQPlot Normality Check of Temperature (F) ') \n",
    "plt.show()"
   ]
  },
  {
   "cell_type": "markdown",
   "metadata": {},
   "source": [
    "While it looks like there are some outliers that are lifting at the right end of the theoretical Gaussian line, for the most part the data seems normal-ish. "
   ]
  },
  {
   "cell_type": "code",
   "execution_count": 10,
   "metadata": {},
   "outputs": [
    {
     "name": "stdout",
     "output_type": "stream",
     "text": [
      "Statistics = 0.987, p=0.233, alpha = 0.05\n",
      "Sample looks Gaussian (fail to reject H0)\n"
     ]
    }
   ],
   "source": [
    "# Will use a test to further determine whether we can assume the distribution is normal enough to use \n",
    "# Null hypothesis is that the sample the population comes from is normally distributed\n",
    "# If p> alpha, then we fail to reject the null hypothesis that the sampling distribution is normal\n",
    "\n",
    "stat, p = shapiro(df.temperature)\n",
    "alpha= 0.05\n",
    "print('Statistics = %.3f, p=%.3f, alpha = %.2f' % (stat,p, alpha))\n",
    "if p > alpha:\n",
    "\tprint('Sample looks Gaussian (fail to reject H0)')\n",
    "else:\n",
    "\tprint('Sample does not look Gaussian (reject H0)')\n",
    "\n"
   ]
  },
  {
   "cell_type": "markdown",
   "metadata": {},
   "source": [
    "## 2. Is the sample size large? Are the observations independent? \n",
    "\n",
    "We want to estimate the required sample size needed in order to maximized the statisitical power of our tests.\n",
    "We can do this using commonly accepted assumptions of effect size, signficance, and statistical power to estimate the desired sample size.\n",
    "\n",
    "We will perform a power analysis using the student's t test, which compares the means of two samples of normal variables. \n",
    "The null hypothesis is that the sample populations have the same mean.\n",
    "\n",
    "The assumptions we'll use:\n",
    "\n",
    "Significance level = 0.05\n",
    "\n",
    "Effect Size = 0.80 from Cohen's d \n",
    "\n",
    "Statistical power = 0.80\n",
    "\n",
    "Sample size= to be estimated"
   ]
  },
  {
   "cell_type": "code",
   "execution_count": 11,
   "metadata": {},
   "outputs": [
    {
     "name": "stdout",
     "output_type": "stream",
     "text": [
      "Minimum sample size required: 25.525 given effect size: 0.80, alpha: 0.05, power: 0.80\n"
     ]
    }
   ],
   "source": [
    "#Estimate sample size via power analysis \n",
    "\n",
    "effect = 0.8\n",
    "alpha = 0.05\n",
    "power = 0.8\n",
    "\n",
    "#Perform power analysis\n",
    "analysis= TTestIndPower()\n",
    "result = analysis.solve_power(effect, power=power, nobs1=None, ratio=1.0, alpha=alpha)\n",
    "print('Minimum sample size required: %.3f given effect size: %.2f, alpha: %.2f, power: %.2f' % (result, effect, alpha, power))"
   ]
  },
  {
   "cell_type": "markdown",
   "metadata": {},
   "source": [
    "The data samples we have (130) are significantly greater than the suggested size (25), which suggests our sample size is big enough. The general rule of thumb for CLT to apply is 30, so the sample size is sufficient by multiple standards."
   ]
  },
  {
   "cell_type": "markdown",
   "metadata": {},
   "source": [
    "### Are the samples independent? \n",
    "The definition of independence is that:\n",
    "P(x|y) = P(x), for all values of X and Y. i.e. Probability of x given y is x\n",
    "P(x ∩ y) = P(x) * P(y), for all values of X and Y. \n",
    "It seems that the samples should be independent as one sample being drawn wouldn't affect the other.\n"
   ]
  },
  {
   "cell_type": "markdown",
   "metadata": {},
   "source": [
    "## 3. Is the true population mean really 98.6 degrees F? \n",
    "\n",
    "#### First, try a bootstrap hypothesis test. \n",
    "#### Now, let's try frequentist statistical testing. Would you use a one-sample or two-sample test? Why? \n",
    "#### In this situation, is it appropriate to use the t or z test statistic? \n",
    "#### Now try using the other test. How is the result be different? Why? "
   ]
  },
  {
   "cell_type": "markdown",
   "metadata": {},
   "source": [
    "\n",
    "We'll first try  the frequentist approach.\n",
    "\n",
    "In this case I would use a 1-sample test t-test as we have no knowledge of the population standard deviation and as we're comparing one set of data to a single value (98.6). \n",
    "\n",
    "Null hypothesis: There is no difference between the true population mean and the conventional mean (98.6 F). \n",
    "\n",
    "Alternative hypothesis: There is a difference between the means.\n",
    "\n",
    "Set alpha at 5%"
   ]
  },
  {
   "cell_type": "code",
   "execution_count": 12,
   "metadata": {},
   "outputs": [
    {
     "name": "stdout",
     "output_type": "stream",
     "text": [
      "The t-stat is: -5.45482, the p-value is: 0.000000241063\n"
     ]
    }
   ],
   "source": [
    "t, p = stats.ttest_1samp(df.temperature, 98.6)\n",
    "print('The t-stat is: %.5f, the p-value is: %.12f' % (t,p))"
   ]
  },
  {
   "cell_type": "markdown",
   "metadata": {},
   "source": [
    "The p-value strongly indicates that there could be a difference between the real population mean and the conventional mean (98.6). In this case, the probability that given a chance model, results as extreme as the observed results could occur is significantly less than 5%. "
   ]
  },
  {
   "cell_type": "code",
   "execution_count": 13,
   "metadata": {},
   "outputs": [
    {
     "name": "stdout",
     "output_type": "stream",
     "text": [
      "Size:  130\n",
      "-1.6567515939762403 2.614478679699783\n"
     ]
    }
   ],
   "source": [
    "print(\"Size: \", len(df))\n",
    "\n",
    "#Comparing the t-stat to the quantiles of the t-distribution for a 99% confidence interval\n",
    "print((stats.t.ppf(q=0.05, df=len(df.temperature)-1)), (stats.t.ppf(q=0.995, df=len(df.temperature)-1)))"
   ]
  },
  {
   "cell_type": "markdown",
   "metadata": {},
   "source": [
    "The t-stat falls outside the quantiles of the 99% confidence interval and combined with the p-value suggests the null hypothesis should be rejected.\n",
    "\n",
    "If we try using the z-test, we'll need to calculate the SEM for approximation as we don't know the population standard deviation. "
   ]
  },
  {
   "cell_type": "code",
   "execution_count": 14,
   "metadata": {},
   "outputs": [
    {
     "name": "stdout",
     "output_type": "stream",
     "text": [
      "The sem is: 0.0643044168, the z-stat is: -5.4548232924, the p-value is: 0.0000000490 \n"
     ]
    }
   ],
   "source": [
    "#Calculate SEM, Z-stat, p-value\n",
    "sem = stats.sem(df.temperature)\n",
    "z= (np.mean(df.temperature) - 98.6)/ sem\n",
    "p = stats.norm.cdf(z) * 2\n",
    "\n",
    "\n",
    "print('The sem is: %.10f, the z-stat is: %.10f, the p-value is: %.10f ' %(sem, z, p))"
   ]
  },
  {
   "cell_type": "markdown",
   "metadata": {},
   "source": [
    "The z-stat and t-stat are very similar and the p-value is still low enough to reject the null hypothesis.\n",
    "\n",
    "Next we'll dive generate a p-value using the bootstrap approach. "
   ]
  },
  {
   "cell_type": "code",
   "execution_count": 15,
   "metadata": {},
   "outputs": [],
   "source": [
    "#Create a function that leverages np.random.choice and returns an array of replicates\n",
    "\n",
    "def draw_replicates(data, function, samplessize=1):\n",
    "    \"\"\"Draw bootstrap replicates.\"\"\"\n",
    "\n",
    "    # Initialize array of replicates:\n",
    "    replicates = np.empty(samplessize)\n",
    "\n",
    "    # Generate replicates:\n",
    "    for i in range(samplessize):\n",
    "        replicates[i] = function(np.random.choice(data, size=len(data)))\n",
    "\n",
    "    return replicates"
   ]
  },
  {
   "cell_type": "code",
   "execution_count": 16,
   "metadata": {},
   "outputs": [
    {
     "name": "stdout",
     "output_type": "stream",
     "text": [
      "The p-value is 0.0\n"
     ]
    }
   ],
   "source": [
    "# Seed random number generator:\n",
    "np.random.seed(42)\n",
    "\n",
    "# Make an array of translated temperatures:\n",
    "translatedTemps = df.temperature - np.mean(df.temperature) + 98.6\n",
    "\n",
    "# Draw bootstrap replicates of translated temperatures:\n",
    "trans_replicates = draw_replicates(translatedTemps, np.mean, 10000)\n",
    "\n",
    "# Compute fraction of replicates that are less than the observed temperature mean:\n",
    "p = np.sum(trans_replicates <= np.mean(df.temperature)) / len(trans_replicates)\n",
    "\n",
    "# Print the p-value:\n",
    "print('The p-value is', p)"
   ]
  },
  {
   "cell_type": "markdown",
   "metadata": {},
   "source": [
    "Based on the p value it looks like we can reject the null hypothesis that the true pop mean is 98.6 F. "
   ]
  },
  {
   "cell_type": "markdown",
   "metadata": {},
   "source": [
    "## 4. Draw a small sample of size 10 from the data and repeat both frequentist tests. \n",
    "\n",
    "#### Which one is the correct one to use? \n",
    "\n",
    "#### What do you notice? What does this tell you about the difference in application of the t and z statistic? "
   ]
  },
  {
   "cell_type": "code",
   "execution_count": 17,
   "metadata": {},
   "outputs": [
    {
     "name": "stdout",
     "output_type": "stream",
     "text": [
      "[98.  98.8 97.8 97.  97.7 98.3 98.  97.9 99.  98. ]\n"
     ]
    }
   ],
   "source": [
    "#set random seed generator\n",
    "np.random.seed(42)\n",
    "\n",
    "sampletest = np.random.choice(df.temperature, size=10)\n",
    "print(sampletest)"
   ]
  },
  {
   "cell_type": "code",
   "execution_count": 18,
   "metadata": {},
   "outputs": [
    {
     "name": "stdout",
     "output_type": "stream",
     "text": [
      "The t-stat is: -3.09345, the p-value is: 0.012857704605\n",
      "The 95% Confidence interval for t stat:  -2.262157162740992 2.2621571627409915\n",
      "The 99% Confidence interval for t stat:  -3.24983554401537 3.2498355440153697\n"
     ]
    }
   ],
   "source": [
    "# t test\n",
    "t4,p4 = stats.ttest_1samp(sampletest, 98.6)\n",
    "\n",
    "\n",
    "print('The t-stat is: %.5f, the p-value is: %.12f' % (t4,p4))\n",
    "print('The 95% Confidence interval for t stat: ',(stats.t.ppf(q=0.025, df=len(sampletest)-1)), (stats.t.ppf(q=0.975, df=len(sampletest)-1)))\n",
    "print('The 99% Confidence interval for t stat: ',(stats.t.ppf(q=0.005, df=len(sampletest)-1)), (stats.t.ppf(q=0.995, df=len(sampletest)-1)))\n"
   ]
  },
  {
   "cell_type": "code",
   "execution_count": 19,
   "metadata": {},
   "outputs": [
    {
     "name": "stdout",
     "output_type": "stream",
     "text": [
      "The z-score is: -3.26078, the p-value is: 0.001111060454\n",
      "The 95% Confidence interval for z score:  -1.9599639845400545 1.959963984540054\n",
      "The 99% Confidence interval for z score:  -2.575829303548901 2.5758293035489004\n"
     ]
    }
   ],
   "source": [
    "# z score\n",
    "z5 = (np.mean(sampletest) - 98.6) / (np.std(sampletest)/np.sqrt(len(sampletest)))\n",
    "p5 = stats.norm.cdf(z5) * 2\n",
    "\n",
    "# Print the values for z and p:\n",
    "print('The z-score is: %.5f, the p-value is: %.12f' % (z5,p5))\n",
    "print('The 95% Confidence interval for z score: ',(stats.norm.ppf(.025)), (stats.norm.ppf(.975)))\n",
    "print('The 99% Confidence interval for z score: ',(stats.norm.ppf(.005)), (stats.norm.ppf(.995)))\n",
    "      "
   ]
  },
  {
   "cell_type": "markdown",
   "metadata": {},
   "source": [
    "Because the population standard deviation is unknown and the sample size is small, we should use a t-test. In both tests the the  p-value is less than 5% however the t-test wouldn't pass an alpha of 0.01 whereas the p-value generated by the z-test is well below the alpha=0.01 threshold. While both tests seem to strongly indicate that we should reject the null hypothesis, the student's t-distribution is wider with fatter tails and will consequently be less sensitive."
   ]
  },
  {
   "cell_type": "markdown",
   "metadata": {},
   "source": [
    "## 5. At what temperature should we consider someone's temperature to be \"abnormal\"? \n",
    "\n",
    "#### As in the previous example, try calculating everything using the boostrap approach, as well as the frequentist approach. \n",
    "#### Start by computing the margin of error and confidence interval. When calculating the confidence interval, keep in mind that you should use the appropriate formula for one draw, and not N draws. "
   ]
  },
  {
   "cell_type": "code",
   "execution_count": 37,
   "metadata": {},
   "outputs": [
    {
     "name": "stdout",
     "output_type": "stream",
     "text": [
      "Mean:  98.24923076923078\n",
      "Std Dev:  0.7303577789050377\n",
      "Z Critical Val: 1.96, SEM: 0.06, Margin of Error: 0.13\n",
      "95% Confidence Interval: [98.12319643 98.37526511]\n"
     ]
    }
   ],
   "source": [
    "# 1) Computing the confidence interval - Frequentist\n",
    "# Computing the Margin of Error\n",
    "z_critical = norm.ppf(0.975)\n",
    "sem = stats.sem(df.temperature)\n",
    "print(\"Mean: \", np.mean(df.temperature))\n",
    "print(\"Std Dev: \", np.std(df.temperature))\n",
    "\n",
    "marginOfError = z_critical * sem\n",
    "\n",
    "print(\"Z Critical Val: %.2f, SEM: %.2f, Margin of Error: %.2f\" %(z_critical, sem, marginOfError))\n",
    "\n",
    "# Calculate and save the 95% confidence interval:\n",
    "CI = np.array([np.mean(df.temperature) - marginOfError, np.mean(df.temperature) + marginOfError])\n",
    "print('95% Confidence Interval:', CI)"
   ]
  },
  {
   "cell_type": "code",
   "execution_count": 38,
   "metadata": {},
   "outputs": [
    {
     "name": "stdout",
     "output_type": "stream",
     "text": [
      "95% Confidence Interval: [98.033845   98.46615462]\n"
     ]
    }
   ],
   "source": [
    "# 2) Boostrap Approach\n",
    "# Seed the random number generator:\n",
    "np.random.seed(42)\n",
    "\n",
    "# Draw bootstrap replicates of temperatures:\n",
    "replicates = draw_replicates(df.temperature, np.mean, 10000)\n",
    "\n",
    "# Compute the 95% confidence interval:\n",
    "CI = np.percentile(replicates, [0.05, 99.95])\n",
    "print('95% Confidence Interval:', CI)"
   ]
  },
  {
   "cell_type": "markdown",
   "metadata": {},
   "source": [
    "Constructing the Confidence Interval using both the boostrap and frequentist approaches, the range of ~98 deg F and ~98.5 deg F seems overly strict and not aligned with the observed experience of having temeperatures outside that range while being in a healthy state. One issue with using the confidence itnerval is that the CI is calculated using population statistics (the larger the sample, the most certain the estikmates; however the converse holds true as well). In this case we would want to use an individual draw or sample (i.e, a single person in this case) and compare against a prediction interval, which is calculated using the sample stats for that individual.  "
   ]
  },
  {
   "cell_type": "code",
   "execution_count": 41,
   "metadata": {},
   "outputs": [
    {
     "name": "stdout",
     "output_type": "stream",
     "text": [
      "95% confidence interval:  (96.81775582674824, 99.68070571171332)\n"
     ]
    }
   ],
   "source": [
    "# Calculate the 95% prediction interval\n",
    "\n",
    "PI = stats.norm.interval(0.95, loc= np.mean(df.temperature), scale=np.std(df.temperature))\n",
    "print('95% confidence interval: ', PI)"
   ]
  },
  {
   "cell_type": "markdown",
   "metadata": {},
   "source": [
    "The revised predicton interval makes sense especially compared to conventional experiences around temperatures and wellness."
   ]
  },
  {
   "cell_type": "markdown",
   "metadata": {},
   "source": [
    "## 6. Is there a significant difference between males and females in normal temperature? \n",
    "\n",
    "#### What testing approach did you use and why? \n",
    "#### Write a story with your conclusion in the context of the original problem. "
   ]
  },
  {
   "cell_type": "markdown",
   "metadata": {},
   "source": [
    "In this case we'll use a permutation test. The null hypothesis is that there is no significant different between female and male body temperatures. We'll test at that 95% confidence level. \n",
    "\n",
    "First we want to visually explore whether there are differences in the distribution. "
   ]
  },
  {
   "cell_type": "code",
   "execution_count": 44,
   "metadata": {},
   "outputs": [
    {
     "data": {
      "image/png": "[encoded data removed]",
      "text/plain": [
       "<Figure size 432x288 with 1 Axes>"
      ]
     },
     "metadata": {
      "needs_background": "light"
     },
     "output_type": "display_data"
    }
   ],
   "source": [
    "# Create boxplots for temperature by gender:\n",
    "fig = sns.boxplot(x='gender', y='temperature', data=df)\n",
    "\n",
    "# Increase tick mark font size, label axes and add title:\n",
    "plt.tick_params(axis='x', which='major', labelsize=14)\n",
    "fig = plt.xlabel('Gender', fontsize=14)\n",
    "fig = plt.ylabel('Temperature ($^\\circ$F)')\n",
    "plt.title('Female vs. Male Body Temps', fontsize=18)\n",
    "\n",
    "# Display the plots:\n",
    "plt.show()\n"
   ]
  },
  {
   "cell_type": "code",
   "execution_count": 45,
   "metadata": {},
   "outputs": [],
   "source": [
    "#Creating the necessary data frames\n",
    "\n",
    "df_female = df.temperature[df.gender == 'F']\n",
    "df_male = df.temperature[df.gender == 'M']"
   ]
  },
  {
   "cell_type": "markdown",
   "metadata": {},
   "source": [
    "We're first going to try a bootstrapping approach. "
   ]
  },
  {
   "cell_type": "code",
   "execution_count": 46,
   "metadata": {},
   "outputs": [],
   "source": [
    "# Define permutation functions:\n",
    "\n",
    "def permutation_sample(data1, data2):\n",
    "    \"\"\"Return a permutation sample from two data sets.\"\"\"\n",
    "\n",
    "    # Concatenate the data sets:\n",
    "    data = np.concatenate((data1, data2))\n",
    "\n",
    "    # Permute the concatenated array:\n",
    "    permuted_data = np.random.permutation(data)\n",
    "\n",
    "    # Split the permuted array into two samples:\n",
    "    permutation_sample_1 = permuted_data[:len(data1)]\n",
    "    permutation_sample_2 = permuted_data[len(data1):]\n",
    "\n",
    "    return permutation_sample_1, permutation_sample_2\n",
    "\n",
    "\n",
    "def draw_permutation_replicates(data_1, data_2, func, size=1):\n",
    "    \"\"\"Draw multiple permutation replicates.\"\"\"\n",
    "\n",
    "    # Initialize array of permutation replicates:\n",
    "    permutation_replicates = np.empty(size)\n",
    "\n",
    "    for i in range(size):\n",
    "        # Generate permutation samples:\n",
    "        permutation_sample_1, permutation_sample_2 = permutation_sample(data_1, data_2)\n",
    "\n",
    "        # Compute the test statistic:\n",
    "        permutation_replicates[i] = func(permutation_sample_1, permutation_sample_2)\n",
    "\n",
    "    return permutation_replicates\n",
    "\n",
    "\n",
    "def difference_of_means(data_1, data_2):\n",
    "    \"\"\"Return the difference in means of two arrays.\"\"\"\n",
    "\n",
    "    # The difference of means of data_1, data_2:\n",
    "    return np.mean(data_1) - np.mean(data_2)"
   ]
  },
  {
   "cell_type": "code",
   "execution_count": 48,
   "metadata": {},
   "outputs": [
    {
     "name": "stdout",
     "output_type": "stream",
     "text": [
      "Difference of Means 0.289230769230727\n",
      "p-value = 0.0119\n"
     ]
    }
   ],
   "source": [
    "# Seed the random number generator:\n",
    "np.random.seed(42)\n",
    "\n",
    "\n",
    "# Compute difference of means:\n",
    "empirical_difference = difference_of_means(df_female, df_male)\n",
    "\n",
    "# Draw 10,000 permutation replicates:\n",
    "permutation_replicates = draw_permutation_replicates(df_female, df_male, difference_of_means, size=10000)\n",
    "\n",
    "# Compute fraction of replicates that are greater than the observed difference of means:\n",
    "p = np.sum(permutation_replicates >= empirical_difference) / len(permutation_replicates)\n",
    "\n",
    "# Print the results:\n",
    "print('Difference of Means', empirical_difference)\n",
    "print('p-value =', p)"
   ]
  },
  {
   "cell_type": "markdown",
   "metadata": {},
   "source": [
    "The p-value of 0.0119 is below alpha = 5% so we can reject the null hypothesis. Below we'll try using a t-test. "
   ]
  },
  {
   "cell_type": "markdown",
   "metadata": {},
   "source": []
  },
  {
   "cell_type": "code",
   "execution_count": 50,
   "metadata": {},
   "outputs": [
    {
     "name": "stdout",
     "output_type": "stream",
     "text": [
      "t-stat 2.29, p-value: 0.02\n"
     ]
    }
   ],
   "source": [
    "t,p = stats.ttest_ind(df_female, df_male)\n",
    "\n",
    "print(\"t-stat %.2f, p-value: %.2f\" % (t,p))"
   ]
  },
  {
   "cell_type": "markdown",
   "metadata": {},
   "source": [
    "The p-value of 0.02 is below alpha = 5% so we can reject the null hypothesis as well. It seems women have a slightly higher body temperature in this case. We can see in the figure below that the slight difference in the male and female temperature samples is captured especially in the 25th, 50th, and 70th percentiles.    "
   ]
  },
  {
   "cell_type": "code",
   "execution_count": 54,
   "metadata": {},
   "outputs": [],
   "source": [
    "def cdf(data):\n",
    "    \"\"\"Compute CDF for a one-dimensional array of measurements.\"\"\"\n",
    "\n",
    "    # Number of data points:\n",
    "    n = len(data)\n",
    "\n",
    "    # x-data for the CDF:\n",
    "    x = np.sort(data)\n",
    "\n",
    "    # y-data for the CDF:\n",
    "    y = np.arange(1, n+1) / n\n",
    "\n",
    "    return x, y"
   ]
  },
  {
   "cell_type": "code",
   "execution_count": 56,
   "metadata": {},
   "outputs": [
    {
     "data": {
      "image/png": "[encoded data removed]",
      "text/plain": [
       "<Figure size 432x288 with 1 Axes>"
      ]
     },
     "metadata": {
      "needs_background": "light"
     },
     "output_type": "display_data"
    }
   ],
   "source": [
    "# Compute percentiles:\n",
    "percentile = np.array([25,50,75])\n",
    "f_percentiles = np.percentile(df_female, percentile)\n",
    "m_percentiles = np.percentile(df_male, percentile)\n",
    "\n",
    "# Compute ECDFs:\n",
    "fx_temp, fy_temp = cdf(df_female)\n",
    "mx_temp, my_temp = cdf(df_male)\n",
    "\n",
    "# Plot both ECDFs on the same plot:\n",
    "fig = plt.plot(fx_temp, fy_temp, marker='.', linestyle='none')\n",
    "fig = plt.plot(mx_temp, my_temp, marker='.', linestyle='none')\n",
    "\n",
    "# Overlay percentiles on each plot:\n",
    "fig = plt.plot(f_percentiles, percentile/100, marker='X', linestyle='none', color='black')\n",
    "fig = plt.plot(m_percentiles, percentile/100, marker='X', linestyle='none', color='black')\n",
    "\n",
    "# Label axes and add legend and a title:\n",
    "fig = plt.xlabel('Temperature ($^\\circ$F)', fontsize=14)\n",
    "fig = plt.ylabel('ECDF')\n",
    "fig = plt.legend(('Female Body Temperature', 'Male Body Temperature', '25$^{th}$, 50$^{th}$, 75$^{th}$ Percentiles'), loc='center right')\n",
    "fig = plt.title('Distribution of Female and Male Body Temperatures', fontsize=18)\n",
    "\n",
    "\n",
    "plt.show()"
   ]
  },
  {
   "cell_type": "markdown",
   "metadata": {},
   "source": [
    "## Conclusion:\n",
    "\n",
    "We started this analysis with the null hyptohesis that the true human body temperature was 98.6 Deg F. While 98.6 is a fair value that can be included in a healthy range, we coudl make a strong arument that the true normal human body temperature is lower and gender could be a potential factor in determining whether an individual's body temperature is within the normal healthy range. More samples and testing over time could help determine whether there is stronger evidence that the population of males and population of females experience different body temperatures.  "
   ]
  },
  {
   "cell_type": "code",
   "execution_count": null,
   "metadata": {},
   "outputs": [],
   "source": []
  }
 ],
 "metadata": {
  "kernelspec": {
   "display_name": "Python 3",
   "language": "python",
   "name": "python3"
  },
  "language_info": {
   "codemirror_mode": {
    "name": "ipython",
    "version": 3
   },
   "file_extension": ".py",
   "mimetype": "text/x-python",
   "name": "python",
   "nbconvert_exporter": "python",
   "pygments_lexer": "ipython3",
   "version": "3.7.0"
  }
 },
 "nbformat": 4,
 "nbformat_minor": 2
}
